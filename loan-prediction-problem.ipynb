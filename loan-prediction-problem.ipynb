{
 "cells": [
  {
   "cell_type": "markdown",
   "metadata": {
    "papermill": {
     "duration": 0.021928,
     "end_time": "2020-09-08T03:15:55.361283",
     "exception": false,
     "start_time": "2020-09-08T03:15:55.339355",
     "status": "completed"
    },
    "tags": []
   },
   "source": [
    "# Predicting Loan Repayment\n",
    "\n",
    "\n",
    "The dataset for this project is retrieved from kaggle, the home of Data Science.\n",
    "\n",
    "The major aim of this project is to predict whether the customers will have their loan paid or not. Therefore, this is a supervised classification problem to be trained."
   ]
  },
  {
   "cell_type": "markdown",
   "metadata": {
    "papermill": {
     "duration": 0.02001,
     "end_time": "2020-09-08T03:15:55.401984",
     "exception": false,
     "start_time": "2020-09-08T03:15:55.381974",
     "status": "completed"
    },
    "tags": []
   },
   "source": [
    "### **1- Importing Libraries**"
   ]
  },
  {
   "cell_type": "code",
   "execution_count": 1,
   "metadata": {
    "papermill": {
     "duration": 3.080197,
     "end_time": "2020-09-08T03:15:58.502515",
     "exception": false,
     "start_time": "2020-09-08T03:15:55.422318",
     "status": "completed"
    },
    "tags": []
   },
   "outputs": [
    {
     "name": "stderr",
     "output_type": "stream",
     "text": [
      "C:\\Users\\Dell\\Anaconda3\\lib\\site-packages\\scipy\\__init__.py:146: UserWarning: A NumPy version >=1.16.5 and <1.23.0 is required for this version of SciPy (detected version 1.26.1\n",
      "  warnings.warn(f\"A NumPy version >={np_minversion} and <{np_maxversion}\"\n"
     ]
    }
   ],
   "source": [
    "import numpy as np\n",
    "import pandas as pd\n",
    "import matplotlib.pyplot as plt\n",
    "import seaborn as sns\n",
    "%matplotlib inline\n",
    "from sklearn.preprocessing import LabelEncoder\n",
    "from sklearn.model_selection import train_test_split\n",
    "from sklearn.linear_model import LogisticRegression\n",
    "from sklearn.metrics import confusion_matrix, classification_report,accuracy_score\n",
    "from sklearn.tree import DecisionTreeClassifier\n",
    "from sklearn.ensemble import RandomForestClassifier\n",
    "from sklearn.neighbors import KNeighborsClassifier\n",
    "from sklearn.svm import SVC\n",
    "from sklearn.model_selection import GridSearchCV\n",
    "import plotly.express as px"
   ]
  },
  {
   "cell_type": "markdown",
   "metadata": {
    "papermill": {
     "duration": 0.0203,
     "end_time": "2020-09-08T03:15:58.543518",
     "exception": false,
     "start_time": "2020-09-08T03:15:58.523218",
     "status": "completed"
    },
    "tags": []
   },
   "source": [
    "### **2- Getting Data**"
   ]
  },
  {
   "cell_type": "code",
   "execution_count": 2,
   "metadata": {
    "papermill": {
     "duration": 0.052871,
     "end_time": "2020-09-08T03:15:58.616870",
     "exception": false,
     "start_time": "2020-09-08T03:15:58.563999",
     "status": "completed"
    },
    "tags": []
   },
   "outputs": [],
   "source": [
    "df=pd.read_csv('C:\\\\Users\\\\Dell\\\\Desktop\\\\SupplyChain\\\\datasets_137197_325031_test_Y3wMUE5_7gLdaTN.csv')"
   ]
  },
  {
   "cell_type": "code",
   "execution_count": 3,
   "metadata": {
    "papermill": {
     "duration": 0.08401,
     "end_time": "2020-09-08T03:15:58.727718",
     "exception": false,
     "start_time": "2020-09-08T03:15:58.643708",
     "status": "completed"
    },
    "tags": []
   },
   "outputs": [
    {
     "data": {
      "text/html": [
       "<div>\n",
       "<style scoped>\n",
       "    .dataframe tbody tr th:only-of-type {\n",
       "        vertical-align: middle;\n",
       "    }\n",
       "\n",
       "    .dataframe tbody tr th {\n",
       "        vertical-align: top;\n",
       "    }\n",
       "\n",
       "    .dataframe thead th {\n",
       "        text-align: right;\n",
       "    }\n",
       "</style>\n",
       "<table border=\"1\" class=\"dataframe\">\n",
       "  <thead>\n",
       "    <tr style=\"text-align: right;\">\n",
       "      <th></th>\n",
       "      <th>Loan_ID</th>\n",
       "      <th>Gender</th>\n",
       "      <th>Married</th>\n",
       "      <th>Dependents</th>\n",
       "      <th>Education</th>\n",
       "      <th>Self_Employed</th>\n",
       "      <th>ApplicantIncome</th>\n",
       "      <th>CoapplicantIncome</th>\n",
       "      <th>LoanAmount</th>\n",
       "      <th>Loan_Amount_Term</th>\n",
       "      <th>Credit_History</th>\n",
       "      <th>Property_Area</th>\n",
       "    </tr>\n",
       "  </thead>\n",
       "  <tbody>\n",
       "    <tr>\n",
       "      <th>0</th>\n",
       "      <td>LP001015</td>\n",
       "      <td>Male</td>\n",
       "      <td>Yes</td>\n",
       "      <td>0</td>\n",
       "      <td>Graduate</td>\n",
       "      <td>No</td>\n",
       "      <td>5720</td>\n",
       "      <td>0</td>\n",
       "      <td>110.0</td>\n",
       "      <td>360.0</td>\n",
       "      <td>1.0</td>\n",
       "      <td>Urban</td>\n",
       "    </tr>\n",
       "    <tr>\n",
       "      <th>1</th>\n",
       "      <td>LP001022</td>\n",
       "      <td>Male</td>\n",
       "      <td>Yes</td>\n",
       "      <td>1</td>\n",
       "      <td>Graduate</td>\n",
       "      <td>No</td>\n",
       "      <td>3076</td>\n",
       "      <td>1500</td>\n",
       "      <td>126.0</td>\n",
       "      <td>360.0</td>\n",
       "      <td>1.0</td>\n",
       "      <td>Urban</td>\n",
       "    </tr>\n",
       "    <tr>\n",
       "      <th>2</th>\n",
       "      <td>LP001031</td>\n",
       "      <td>Male</td>\n",
       "      <td>Yes</td>\n",
       "      <td>2</td>\n",
       "      <td>Graduate</td>\n",
       "      <td>No</td>\n",
       "      <td>5000</td>\n",
       "      <td>1800</td>\n",
       "      <td>208.0</td>\n",
       "      <td>360.0</td>\n",
       "      <td>1.0</td>\n",
       "      <td>Urban</td>\n",
       "    </tr>\n",
       "    <tr>\n",
       "      <th>3</th>\n",
       "      <td>LP001035</td>\n",
       "      <td>Male</td>\n",
       "      <td>Yes</td>\n",
       "      <td>2</td>\n",
       "      <td>Graduate</td>\n",
       "      <td>No</td>\n",
       "      <td>2340</td>\n",
       "      <td>2546</td>\n",
       "      <td>100.0</td>\n",
       "      <td>360.0</td>\n",
       "      <td>NaN</td>\n",
       "      <td>Urban</td>\n",
       "    </tr>\n",
       "    <tr>\n",
       "      <th>4</th>\n",
       "      <td>LP001051</td>\n",
       "      <td>Male</td>\n",
       "      <td>No</td>\n",
       "      <td>0</td>\n",
       "      <td>Not Graduate</td>\n",
       "      <td>No</td>\n",
       "      <td>3276</td>\n",
       "      <td>0</td>\n",
       "      <td>78.0</td>\n",
       "      <td>360.0</td>\n",
       "      <td>1.0</td>\n",
       "      <td>Urban</td>\n",
       "    </tr>\n",
       "  </tbody>\n",
       "</table>\n",
       "</div>"
      ],
      "text/plain": [
       "    Loan_ID Gender Married Dependents     Education Self_Employed  \\\n",
       "0  LP001015   Male     Yes          0      Graduate            No   \n",
       "1  LP001022   Male     Yes          1      Graduate            No   \n",
       "2  LP001031   Male     Yes          2      Graduate            No   \n",
       "3  LP001035   Male     Yes          2      Graduate            No   \n",
       "4  LP001051   Male      No          0  Not Graduate            No   \n",
       "\n",
       "   ApplicantIncome  CoapplicantIncome  LoanAmount  Loan_Amount_Term  \\\n",
       "0             5720                  0       110.0             360.0   \n",
       "1             3076               1500       126.0             360.0   \n",
       "2             5000               1800       208.0             360.0   \n",
       "3             2340               2546       100.0             360.0   \n",
       "4             3276                  0        78.0             360.0   \n",
       "\n",
       "   Credit_History Property_Area  \n",
       "0             1.0         Urban  \n",
       "1             1.0         Urban  \n",
       "2             1.0         Urban  \n",
       "3             NaN         Urban  \n",
       "4             1.0         Urban  "
      ]
     },
     "execution_count": 3,
     "metadata": {},
     "output_type": "execute_result"
    }
   ],
   "source": [
    "df.head()"
   ]
  },
  {
   "cell_type": "code",
   "execution_count": 4,
   "metadata": {},
   "outputs": [
    {
     "name": "stdout",
     "output_type": "stream",
     "text": [
      "File written successfully.\n"
     ]
    }
   ],
   "source": [
    "import os\n",
    "\n",
    "path = 'C:/Users/Dell/Downloads/python-mini-projects-master/python-mini-projects-master/Notebooks/Customer_loan_repayment_problem'\n",
    "\n",
    "try:\n",
    "    with open(os.path.join(path, 'example.txt'), 'w') as f:\n",
    "        f.write('Hello, World!')\n",
    "    print('File written successfully.')\n",
    "except PermissionError as e:\n",
    "    print(f'PermissionError: {e}')\n",
    "except Exception as e:\n",
    "    print(f'An error occurred: {e}')\n"
   ]
  },
  {
   "cell_type": "code",
   "execution_count": 5,
   "metadata": {
    "papermill": {
     "duration": 0.035154,
     "end_time": "2020-09-08T03:15:58.794299",
     "exception": false,
     "start_time": "2020-09-08T03:15:58.759145",
     "status": "completed"
    },
    "tags": []
   },
   "outputs": [
    {
     "data": {
      "text/plain": [
       "(367, 12)"
      ]
     },
     "execution_count": 5,
     "metadata": {},
     "output_type": "execute_result"
    }
   ],
   "source": [
    "df.shape"
   ]
  },
  {
   "cell_type": "markdown",
   "metadata": {
    "papermill": {
     "duration": 0.02076,
     "end_time": "2020-09-08T03:15:58.836898",
     "exception": false,
     "start_time": "2020-09-08T03:15:58.816138",
     "status": "completed"
    },
    "tags": []
   },
   "source": [
    "##### 2-1-Renaming columns"
   ]
  },
  {
   "cell_type": "code",
   "execution_count": 6,
   "metadata": {
    "papermill": {
     "duration": 0.031593,
     "end_time": "2020-09-08T03:15:58.890108",
     "exception": false,
     "start_time": "2020-09-08T03:15:58.858515",
     "status": "completed"
    },
    "tags": []
   },
   "outputs": [],
   "source": [
    "df.columns=df.columns.str.lower()"
   ]
  },
  {
   "cell_type": "code",
   "execution_count": 7,
   "metadata": {
    "papermill": {
     "duration": 0.032546,
     "end_time": "2020-09-08T03:15:58.945013",
     "exception": false,
     "start_time": "2020-09-08T03:15:58.912467",
     "status": "completed"
    },
    "tags": []
   },
   "outputs": [
    {
     "ename": "ValueError",
     "evalue": "Length mismatch: Expected axis has 12 elements, new values have 13 elements",
     "output_type": "error",
     "traceback": [
      "\u001b[1;31m---------------------------------------------------------------------------\u001b[0m",
      "\u001b[1;31mValueError\u001b[0m                                Traceback (most recent call last)",
      "\u001b[1;32m~\\AppData\\Local\\Temp/ipykernel_23292/3281483969.py\u001b[0m in \u001b[0;36m<module>\u001b[1;34m\u001b[0m\n\u001b[1;32m----> 1\u001b[1;33m \u001b[0mdf\u001b[0m\u001b[1;33m.\u001b[0m\u001b[0mcolumns\u001b[0m\u001b[1;33m=\u001b[0m\u001b[1;33m[\u001b[0m\u001b[1;34m'loan_id'\u001b[0m\u001b[1;33m,\u001b[0m \u001b[1;34m'gender'\u001b[0m\u001b[1;33m,\u001b[0m \u001b[1;34m'married'\u001b[0m\u001b[1;33m,\u001b[0m \u001b[1;34m'dependents'\u001b[0m\u001b[1;33m,\u001b[0m \u001b[1;34m'education'\u001b[0m\u001b[1;33m,\u001b[0m\u001b[1;34m'self_employed'\u001b[0m\u001b[1;33m,\u001b[0m \u001b[1;34m'applicant_income'\u001b[0m\u001b[1;33m,\u001b[0m \u001b[1;34m'co-applicant_income'\u001b[0m\u001b[1;33m,\u001b[0m \u001b[1;34m'loan_amount'\u001b[0m\u001b[1;33m,\u001b[0m \u001b[1;34m'loan_amount_term'\u001b[0m\u001b[1;33m,\u001b[0m \u001b[1;34m'credit_history'\u001b[0m\u001b[1;33m,\u001b[0m \u001b[1;34m'property_area'\u001b[0m\u001b[1;33m,\u001b[0m \u001b[1;34m'loan_status'\u001b[0m\u001b[1;33m]\u001b[0m\u001b[1;33m\u001b[0m\u001b[1;33m\u001b[0m\u001b[0m\n\u001b[0m",
      "\u001b[1;32m~\\Anaconda3\\lib\\site-packages\\pandas\\core\\generic.py\u001b[0m in \u001b[0;36m__setattr__\u001b[1;34m(self, name, value)\u001b[0m\n\u001b[0;32m   5498\u001b[0m         \u001b[1;32mtry\u001b[0m\u001b[1;33m:\u001b[0m\u001b[1;33m\u001b[0m\u001b[1;33m\u001b[0m\u001b[0m\n\u001b[0;32m   5499\u001b[0m             \u001b[0mobject\u001b[0m\u001b[1;33m.\u001b[0m\u001b[0m__getattribute__\u001b[0m\u001b[1;33m(\u001b[0m\u001b[0mself\u001b[0m\u001b[1;33m,\u001b[0m \u001b[0mname\u001b[0m\u001b[1;33m)\u001b[0m\u001b[1;33m\u001b[0m\u001b[1;33m\u001b[0m\u001b[0m\n\u001b[1;32m-> 5500\u001b[1;33m             \u001b[1;32mreturn\u001b[0m \u001b[0mobject\u001b[0m\u001b[1;33m.\u001b[0m\u001b[0m__setattr__\u001b[0m\u001b[1;33m(\u001b[0m\u001b[0mself\u001b[0m\u001b[1;33m,\u001b[0m \u001b[0mname\u001b[0m\u001b[1;33m,\u001b[0m \u001b[0mvalue\u001b[0m\u001b[1;33m)\u001b[0m\u001b[1;33m\u001b[0m\u001b[1;33m\u001b[0m\u001b[0m\n\u001b[0m\u001b[0;32m   5501\u001b[0m         \u001b[1;32mexcept\u001b[0m \u001b[0mAttributeError\u001b[0m\u001b[1;33m:\u001b[0m\u001b[1;33m\u001b[0m\u001b[1;33m\u001b[0m\u001b[0m\n\u001b[0;32m   5502\u001b[0m             \u001b[1;32mpass\u001b[0m\u001b[1;33m\u001b[0m\u001b[1;33m\u001b[0m\u001b[0m\n",
      "\u001b[1;32m~\\Anaconda3\\lib\\site-packages\\pandas\\_libs\\properties.pyx\u001b[0m in \u001b[0;36mpandas._libs.properties.AxisProperty.__set__\u001b[1;34m()\u001b[0m\n",
      "\u001b[1;32m~\\Anaconda3\\lib\\site-packages\\pandas\\core\\generic.py\u001b[0m in \u001b[0;36m_set_axis\u001b[1;34m(self, axis, labels)\u001b[0m\n\u001b[0;32m    764\u001b[0m     \u001b[1;32mdef\u001b[0m \u001b[0m_set_axis\u001b[0m\u001b[1;33m(\u001b[0m\u001b[0mself\u001b[0m\u001b[1;33m,\u001b[0m \u001b[0maxis\u001b[0m\u001b[1;33m:\u001b[0m \u001b[0mint\u001b[0m\u001b[1;33m,\u001b[0m \u001b[0mlabels\u001b[0m\u001b[1;33m:\u001b[0m \u001b[0mIndex\u001b[0m\u001b[1;33m)\u001b[0m \u001b[1;33m->\u001b[0m \u001b[1;32mNone\u001b[0m\u001b[1;33m:\u001b[0m\u001b[1;33m\u001b[0m\u001b[1;33m\u001b[0m\u001b[0m\n\u001b[0;32m    765\u001b[0m         \u001b[0mlabels\u001b[0m \u001b[1;33m=\u001b[0m \u001b[0mensure_index\u001b[0m\u001b[1;33m(\u001b[0m\u001b[0mlabels\u001b[0m\u001b[1;33m)\u001b[0m\u001b[1;33m\u001b[0m\u001b[1;33m\u001b[0m\u001b[0m\n\u001b[1;32m--> 766\u001b[1;33m         \u001b[0mself\u001b[0m\u001b[1;33m.\u001b[0m\u001b[0m_mgr\u001b[0m\u001b[1;33m.\u001b[0m\u001b[0mset_axis\u001b[0m\u001b[1;33m(\u001b[0m\u001b[0maxis\u001b[0m\u001b[1;33m,\u001b[0m \u001b[0mlabels\u001b[0m\u001b[1;33m)\u001b[0m\u001b[1;33m\u001b[0m\u001b[1;33m\u001b[0m\u001b[0m\n\u001b[0m\u001b[0;32m    767\u001b[0m         \u001b[0mself\u001b[0m\u001b[1;33m.\u001b[0m\u001b[0m_clear_item_cache\u001b[0m\u001b[1;33m(\u001b[0m\u001b[1;33m)\u001b[0m\u001b[1;33m\u001b[0m\u001b[1;33m\u001b[0m\u001b[0m\n\u001b[0;32m    768\u001b[0m \u001b[1;33m\u001b[0m\u001b[0m\n",
      "\u001b[1;32m~\\Anaconda3\\lib\\site-packages\\pandas\\core\\internals\\managers.py\u001b[0m in \u001b[0;36mset_axis\u001b[1;34m(self, axis, new_labels)\u001b[0m\n\u001b[0;32m    214\u001b[0m     \u001b[1;32mdef\u001b[0m \u001b[0mset_axis\u001b[0m\u001b[1;33m(\u001b[0m\u001b[0mself\u001b[0m\u001b[1;33m,\u001b[0m \u001b[0maxis\u001b[0m\u001b[1;33m:\u001b[0m \u001b[0mint\u001b[0m\u001b[1;33m,\u001b[0m \u001b[0mnew_labels\u001b[0m\u001b[1;33m:\u001b[0m \u001b[0mIndex\u001b[0m\u001b[1;33m)\u001b[0m \u001b[1;33m->\u001b[0m \u001b[1;32mNone\u001b[0m\u001b[1;33m:\u001b[0m\u001b[1;33m\u001b[0m\u001b[1;33m\u001b[0m\u001b[0m\n\u001b[0;32m    215\u001b[0m         \u001b[1;31m# Caller is responsible for ensuring we have an Index object.\u001b[0m\u001b[1;33m\u001b[0m\u001b[1;33m\u001b[0m\u001b[0m\n\u001b[1;32m--> 216\u001b[1;33m         \u001b[0mself\u001b[0m\u001b[1;33m.\u001b[0m\u001b[0m_validate_set_axis\u001b[0m\u001b[1;33m(\u001b[0m\u001b[0maxis\u001b[0m\u001b[1;33m,\u001b[0m \u001b[0mnew_labels\u001b[0m\u001b[1;33m)\u001b[0m\u001b[1;33m\u001b[0m\u001b[1;33m\u001b[0m\u001b[0m\n\u001b[0m\u001b[0;32m    217\u001b[0m         \u001b[0mself\u001b[0m\u001b[1;33m.\u001b[0m\u001b[0maxes\u001b[0m\u001b[1;33m[\u001b[0m\u001b[0maxis\u001b[0m\u001b[1;33m]\u001b[0m \u001b[1;33m=\u001b[0m \u001b[0mnew_labels\u001b[0m\u001b[1;33m\u001b[0m\u001b[1;33m\u001b[0m\u001b[0m\n\u001b[0;32m    218\u001b[0m \u001b[1;33m\u001b[0m\u001b[0m\n",
      "\u001b[1;32m~\\Anaconda3\\lib\\site-packages\\pandas\\core\\internals\\base.py\u001b[0m in \u001b[0;36m_validate_set_axis\u001b[1;34m(self, axis, new_labels)\u001b[0m\n\u001b[0;32m     55\u001b[0m \u001b[1;33m\u001b[0m\u001b[0m\n\u001b[0;32m     56\u001b[0m         \u001b[1;32melif\u001b[0m \u001b[0mnew_len\u001b[0m \u001b[1;33m!=\u001b[0m \u001b[0mold_len\u001b[0m\u001b[1;33m:\u001b[0m\u001b[1;33m\u001b[0m\u001b[1;33m\u001b[0m\u001b[0m\n\u001b[1;32m---> 57\u001b[1;33m             raise ValueError(\n\u001b[0m\u001b[0;32m     58\u001b[0m                 \u001b[1;34mf\"Length mismatch: Expected axis has {old_len} elements, new \"\u001b[0m\u001b[1;33m\u001b[0m\u001b[1;33m\u001b[0m\u001b[0m\n\u001b[0;32m     59\u001b[0m                 \u001b[1;34mf\"values have {new_len} elements\"\u001b[0m\u001b[1;33m\u001b[0m\u001b[1;33m\u001b[0m\u001b[0m\n",
      "\u001b[1;31mValueError\u001b[0m: Length mismatch: Expected axis has 12 elements, new values have 13 elements"
     ]
    }
   ],
   "source": [
    "df.columns=['loan_id', 'gender', 'married', 'dependents', 'education','self_employed', 'applicant_income', 'co-applicant_income', 'loan_amount', 'loan_amount_term', 'credit_history', 'property_area', 'loan_status']"
   ]
  },
  {
   "cell_type": "markdown",
   "metadata": {
    "papermill": {
     "duration": 0.0218,
     "end_time": "2020-09-08T03:15:58.989112",
     "exception": false,
     "start_time": "2020-09-08T03:15:58.967312",
     "status": "completed"
    },
    "tags": []
   },
   "source": [
    "##### 2-2-Checking null values"
   ]
  },
  {
   "cell_type": "code",
   "execution_count": null,
   "metadata": {
    "papermill": {
     "duration": 0.036876,
     "end_time": "2020-09-08T03:15:59.048378",
     "exception": false,
     "start_time": "2020-09-08T03:15:59.011502",
     "status": "completed"
    },
    "tags": []
   },
   "outputs": [],
   "source": [
    "df.isnull().sum()"
   ]
  },
  {
   "cell_type": "markdown",
   "metadata": {
    "papermill": {
     "duration": 0.021552,
     "end_time": "2020-09-08T03:15:59.091701",
     "exception": false,
     "start_time": "2020-09-08T03:15:59.070149",
     "status": "completed"
    },
    "tags": []
   },
   "source": [
    "we take care of missing values in \"loan_amount\" and \"credit_history\".\n",
    "For other null values, we either delete a particular row if it has a null value for a particular feature and a particular column if it has more than 70-75% of missing values. This method is advised only when there are enough samples in the data set. "
   ]
  },
  {
   "cell_type": "code",
   "execution_count": null,
   "metadata": {
    "papermill": {
     "duration": 0.031739,
     "end_time": "2020-09-08T03:15:59.144958",
     "exception": false,
     "start_time": "2020-09-08T03:15:59.113219",
     "status": "completed"
    },
    "tags": []
   },
   "outputs": [],
   "source": [
    "df['loan_amount']=df['loan_amount'].fillna(df['loan_amount'].mean())   "
   ]
  },
  {
   "cell_type": "code",
   "execution_count": null,
   "metadata": {
    "papermill": {
     "duration": 0.032463,
     "end_time": "2020-09-08T03:15:59.199089",
     "exception": false,
     "start_time": "2020-09-08T03:15:59.166626",
     "status": "completed"
    },
    "tags": []
   },
   "outputs": [],
   "source": [
    "df['credit_history']=df['credit_history'].fillna(df['credit_history'].median())   "
   ]
  },
  {
   "cell_type": "code",
   "execution_count": null,
   "metadata": {
    "papermill": {
     "duration": 0.068028,
     "end_time": "2020-09-08T03:15:59.289838",
     "exception": false,
     "start_time": "2020-09-08T03:15:59.221810",
     "status": "completed"
    },
    "tags": []
   },
   "outputs": [],
   "source": [
    "df.dropna(axis=0, inplace=True)"
   ]
  },
  {
   "cell_type": "code",
   "execution_count": null,
   "metadata": {
    "papermill": {
     "duration": 0.035464,
     "end_time": "2020-09-08T03:15:59.347860",
     "exception": false,
     "start_time": "2020-09-08T03:15:59.312396",
     "status": "completed"
    },
    "tags": []
   },
   "outputs": [],
   "source": [
    "df.isnull().sum()"
   ]
  },
  {
   "cell_type": "code",
   "execution_count": null,
   "metadata": {
    "papermill": {
     "duration": 0.050696,
     "end_time": "2020-09-08T03:15:59.420689",
     "exception": false,
     "start_time": "2020-09-08T03:15:59.369993",
     "status": "completed"
    },
    "tags": []
   },
   "outputs": [],
   "source": [
    "df.head()"
   ]
  },
  {
   "cell_type": "code",
   "execution_count": null,
   "metadata": {
    "papermill": {
     "duration": 0.036258,
     "end_time": "2020-09-08T03:15:59.479328",
     "exception": false,
     "start_time": "2020-09-08T03:15:59.443070",
     "status": "completed"
    },
    "tags": []
   },
   "outputs": [],
   "source": [
    "df.shape"
   ]
  },
  {
   "cell_type": "code",
   "execution_count": null,
   "metadata": {
    "papermill": {
     "duration": 0.051843,
     "end_time": "2020-09-08T03:15:59.553962",
     "exception": false,
     "start_time": "2020-09-08T03:15:59.502119",
     "status": "completed"
    },
    "tags": []
   },
   "outputs": [],
   "source": [
    "df.info()"
   ]
  },
  {
   "cell_type": "code",
   "execution_count": null,
   "metadata": {
    "papermill": {
     "duration": 0.061133,
     "end_time": "2020-09-08T03:15:59.639535",
     "exception": false,
     "start_time": "2020-09-08T03:15:59.578402",
     "status": "completed"
    },
    "tags": []
   },
   "outputs": [],
   "source": [
    "df.describe()"
   ]
  },
  {
   "cell_type": "markdown",
   "metadata": {
    "papermill": {
     "duration": 0.024751,
     "end_time": "2020-09-08T03:15:59.689267",
     "exception": false,
     "start_time": "2020-09-08T03:15:59.664516",
     "status": "completed"
    },
    "tags": []
   },
   "source": [
    "##### 2-3-Label Encoder for Dependents"
   ]
  },
  {
   "cell_type": "code",
   "execution_count": null,
   "metadata": {
    "papermill": {
     "duration": 0.034653,
     "end_time": "2020-09-08T03:15:59.746933",
     "exception": false,
     "start_time": "2020-09-08T03:15:59.712280",
     "status": "completed"
    },
    "tags": []
   },
   "outputs": [],
   "source": [
    "type(df['dependents'].iloc[0])"
   ]
  },
  {
   "cell_type": "code",
   "execution_count": null,
   "metadata": {
    "papermill": {
     "duration": 0.035452,
     "end_time": "2020-09-08T03:15:59.805675",
     "exception": false,
     "start_time": "2020-09-08T03:15:59.770223",
     "status": "completed"
    },
    "tags": []
   },
   "outputs": [],
   "source": [
    "df['dependents'].unique()"
   ]
  },
  {
   "cell_type": "code",
   "execution_count": null,
   "metadata": {
    "papermill": {
     "duration": 0.032559,
     "end_time": "2020-09-08T03:15:59.862281",
     "exception": false,
     "start_time": "2020-09-08T03:15:59.829722",
     "status": "completed"
    },
    "tags": []
   },
   "outputs": [],
   "source": [
    "model6=LabelEncoder()"
   ]
  },
  {
   "cell_type": "code",
   "execution_count": null,
   "metadata": {
    "papermill": {
     "duration": 0.036395,
     "end_time": "2020-09-08T03:15:59.922345",
     "exception": false,
     "start_time": "2020-09-08T03:15:59.885950",
     "status": "completed"
    },
    "tags": []
   },
   "outputs": [],
   "source": [
    "model6.fit(df['dependents'])"
   ]
  },
  {
   "cell_type": "code",
   "execution_count": null,
   "metadata": {
    "papermill": {
     "duration": 0.033869,
     "end_time": "2020-09-08T03:15:59.979667",
     "exception": false,
     "start_time": "2020-09-08T03:15:59.945798",
     "status": "completed"
    },
    "tags": []
   },
   "outputs": [],
   "source": [
    "df['dependents']= model6.transform(df['dependents'])"
   ]
  },
  {
   "cell_type": "markdown",
   "metadata": {
    "papermill": {
     "duration": 0.02391,
     "end_time": "2020-09-08T03:16:00.027992",
     "exception": false,
     "start_time": "2020-09-08T03:16:00.004082",
     "status": "completed"
    },
    "tags": []
   },
   "source": [
    "### 3-Exploratory Data Analysis"
   ]
  },
  {
   "cell_type": "markdown",
   "metadata": {
    "papermill": {
     "duration": 0.024019,
     "end_time": "2020-09-08T03:16:00.076251",
     "exception": false,
     "start_time": "2020-09-08T03:16:00.052232",
     "status": "completed"
    },
    "tags": []
   },
   "source": [
    "##### 3-1- Visualization"
   ]
  },
  {
   "cell_type": "code",
   "execution_count": null,
   "metadata": {
    "papermill": {
     "duration": 0.038611,
     "end_time": "2020-09-08T03:16:00.139035",
     "exception": false,
     "start_time": "2020-09-08T03:16:00.100424",
     "status": "completed"
    },
    "tags": []
   },
   "outputs": [],
   "source": [
    "df[df['loan_status']=='Y'].count()['loan_status']"
   ]
  },
  {
   "cell_type": "code",
   "execution_count": null,
   "metadata": {
    "papermill": {
     "duration": 0.038971,
     "end_time": "2020-09-08T03:16:00.202132",
     "exception": false,
     "start_time": "2020-09-08T03:16:00.163161",
     "status": "completed"
    },
    "tags": []
   },
   "outputs": [],
   "source": [
    "df[df['loan_status']=='N'].count()['loan_status']"
   ]
  },
  {
   "cell_type": "code",
   "execution_count": null,
   "metadata": {
    "papermill": {
     "duration": 0.198042,
     "end_time": "2020-09-08T03:16:00.424659",
     "exception": false,
     "start_time": "2020-09-08T03:16:00.226617",
     "status": "completed"
    },
    "tags": []
   },
   "outputs": [],
   "source": [
    "plt.figure(figsize=(8,8))\n",
    "plt.pie(x=[376,166], labels=['Yes','No'], autopct='%1.0f%%', pctdistance=0.5,labeldistance=0.7,colors=['g','r'])\n",
    "plt.title('Distribution of Loan Status')"
   ]
  },
  {
   "cell_type": "markdown",
   "metadata": {
    "papermill": {
     "duration": 0.027202,
     "end_time": "2020-09-08T03:16:00.477382",
     "exception": false,
     "start_time": "2020-09-08T03:16:00.450180",
     "status": "completed"
    },
    "tags": []
   },
   "source": [
    "69% of applicants repay the loan and 39% do not repay the loan."
   ]
  },
  {
   "cell_type": "code",
   "execution_count": null,
   "metadata": {
    "papermill": {
     "duration": 0.823691,
     "end_time": "2020-09-08T03:16:01.328675",
     "exception": false,
     "start_time": "2020-09-08T03:16:00.504984",
     "status": "completed"
    },
    "tags": []
   },
   "outputs": [],
   "source": [
    "plt.figure(figsize=(15,10))\n",
    "\n",
    "plt.subplot(2,3,1)\n",
    "sns.countplot(x='gender' ,hue='loan_status', data=df,palette='plasma')\n",
    "\n",
    "plt.subplot(2,3,2)\n",
    "sns.countplot(x='married',hue='loan_status',data=df,palette='viridis')\n",
    "plt.ylabel(' ')\n",
    "plt.yticks([ ])\n",
    "\n",
    "plt.subplot(2,3,3)\n",
    "sns.countplot(x='education',hue='loan_status',data=df,palette='copper')\n",
    "plt.ylabel(' ')\n",
    "plt.yticks([ ])\n",
    "\n",
    "plt.subplot(2,3,4)\n",
    "sns.countplot(x='credit_history', data=df,hue='loan_status',palette='summer')\n",
    "\n",
    "plt.subplot(2,3,5)\n",
    "sns.countplot(x='self_employed',hue='loan_status',data=df,palette='autumn')\n",
    "plt.ylabel(' ')\n",
    "plt.yticks([ ])\n",
    "\n",
    "plt.subplot(2,3,6)\n",
    "sns.countplot(x='property_area',data=df,hue='loan_status',palette='PuBuGn')\n",
    "plt.ylabel(' ')\n",
    "plt.yticks([ ])"
   ]
  },
  {
   "cell_type": "markdown",
   "metadata": {
    "papermill": {
     "duration": 0.025504,
     "end_time": "2020-09-08T03:16:01.381656",
     "exception": false,
     "start_time": "2020-09-08T03:16:01.356152",
     "status": "completed"
    },
    "tags": []
   },
   "source": [
    "Comparison between Genders in getting the Loan shows that a Male Individual has more chance of repaying the Loan.\n",
    "\n",
    "Comparison between Married Status in getting the Loan shows that a Married Individual has more chance of repaying the Loan.\n",
    "   \n",
    "Comparison between Education Status of an Individual in getting the Loan shows that a Graduate Individual has more chance of repaying the Loan.\n",
    "    \n",
    "Comparison between Self-Employed or Not in getting the Loan shows that Not Self-Employed has more chance of repaying the Loan.\n",
    "\n",
    "Comparison between Credit History for getting the Loan shows that an individual with a credit history has more chance of repaying the Loan.\n",
    "    \n",
    "Comparison between Property Area for getting the Loan shows that People living in Semi-Urban Area have more chance to repay the Loan."
   ]
  },
  {
   "cell_type": "code",
   "execution_count": null,
   "metadata": {
    "papermill": {
     "duration": 1.7457,
     "end_time": "2020-09-08T03:16:03.154913",
     "exception": false,
     "start_time": "2020-09-08T03:16:01.409213",
     "status": "completed"
    },
    "tags": []
   },
   "outputs": [],
   "source": [
    "px.sunburst( data_frame=df,path=['gender','loan_status'], color='loan_amount')"
   ]
  },
  {
   "cell_type": "code",
   "execution_count": null,
   "metadata": {
    "papermill": {
     "duration": 1.392117,
     "end_time": "2020-09-08T03:16:04.624290",
     "exception": false,
     "start_time": "2020-09-08T03:16:03.232173",
     "status": "completed"
    },
    "tags": []
   },
   "outputs": [],
   "source": [
    "plt.figure(figsize=(15,10))\n",
    "\n",
    "plt.subplot(2,3,1)\n",
    "sns.violinplot(x='gender', y='loan_amount',hue='loan_status', data=df,palette='plasma')\n",
    "\n",
    "plt.subplot(2,3,2)\n",
    "sns.violinplot(x='married',y='loan_amount',hue='loan_status',data=df,palette='viridis')\n",
    "plt.ylabel(' ')\n",
    "plt.yticks([ ])\n",
    "\n",
    "plt.subplot(2,3,3)\n",
    "sns.violinplot(x='education',y='loan_amount',hue='loan_status',data=df,palette='copper')\n",
    "plt.ylabel(' ')\n",
    "plt.yticks([ ])\n",
    "\n",
    "plt.subplot(2,3,4)\n",
    "sns.violinplot(x='credit_history',y='loan_amount', data=df,hue='loan_status',palette='summer')\n",
    "\n",
    "plt.subplot(2,3,5)\n",
    "sns.violinplot(x='self_employed',y='loan_amount',hue='loan_status',data=df,palette='autumn')\n",
    "plt.ylabel(' ')\n",
    "plt.yticks([ ])\n",
    "\n",
    "plt.subplot(2,3,6)\n",
    "sns.violinplot(x='property_area', y='loan_amount',data=df,hue='loan_status',palette='PuBuGn')\n",
    "plt.ylabel(' ')\n",
    "plt.yticks([ ])"
   ]
  },
  {
   "cell_type": "code",
   "execution_count": null,
   "metadata": {
    "papermill": {
     "duration": 0.869293,
     "end_time": "2020-09-08T03:16:05.525969",
     "exception": false,
     "start_time": "2020-09-08T03:16:04.656676",
     "status": "completed"
    },
    "tags": []
   },
   "outputs": [],
   "source": [
    "plt.figure(figsize=(18,5))\n",
    "\n",
    "\n",
    "plt.subplot(1,3,1)\n",
    "sns.distplot(df['applicant_income'],bins=30,color='r',hist_kws=dict(edgecolor='white'))\n",
    "plt.ylabel('frequency')\n",
    "\n",
    "plt.subplot(1,3,2)\n",
    "sns.distplot(df['co-applicant_income'],bins=30,color='blue',hist_kws=dict(edgecolor='white'))\n",
    "\n",
    "plt.subplot(1,3,3)\n",
    "sns.distplot(df['loan_amount'],bins=30,color='black',hist_kws=dict(edgecolor='white'))"
   ]
  },
  {
   "cell_type": "code",
   "execution_count": null,
   "metadata": {
    "papermill": {
     "duration": 0.206593,
     "end_time": "2020-09-08T03:16:05.764820",
     "exception": false,
     "start_time": "2020-09-08T03:16:05.558227",
     "status": "completed"
    },
    "tags": []
   },
   "outputs": [],
   "source": [
    "px.scatter_3d(data_frame=df,x='applicant_income',y='co-applicant_income',z='loan_amount',color='loan_status')"
   ]
  },
  {
   "cell_type": "markdown",
   "metadata": {
    "papermill": {
     "duration": 0.02967,
     "end_time": "2020-09-08T03:16:05.823612",
     "exception": false,
     "start_time": "2020-09-08T03:16:05.793942",
     "status": "completed"
    },
    "tags": []
   },
   "source": [
    "##### 3-2-Encoding"
   ]
  },
  {
   "cell_type": "markdown",
   "metadata": {
    "papermill": {
     "duration": 0.032563,
     "end_time": "2020-09-08T03:16:05.885144",
     "exception": false,
     "start_time": "2020-09-08T03:16:05.852581",
     "status": "completed"
    },
    "tags": []
   },
   "source": [
    "###### 3-2-1-gender"
   ]
  },
  {
   "cell_type": "code",
   "execution_count": null,
   "metadata": {
    "papermill": {
     "duration": 0.03787,
     "end_time": "2020-09-08T03:16:05.952327",
     "exception": false,
     "start_time": "2020-09-08T03:16:05.914457",
     "status": "completed"
    },
    "tags": []
   },
   "outputs": [],
   "source": [
    "model1=LabelEncoder()"
   ]
  },
  {
   "cell_type": "code",
   "execution_count": null,
   "metadata": {
    "papermill": {
     "duration": 0.042876,
     "end_time": "2020-09-08T03:16:06.023983",
     "exception": false,
     "start_time": "2020-09-08T03:16:05.981107",
     "status": "completed"
    },
    "tags": []
   },
   "outputs": [],
   "source": [
    "model1.fit(df['gender'])"
   ]
  },
  {
   "cell_type": "code",
   "execution_count": null,
   "metadata": {
    "papermill": {
     "duration": 0.043284,
     "end_time": "2020-09-08T03:16:06.096910",
     "exception": false,
     "start_time": "2020-09-08T03:16:06.053626",
     "status": "completed"
    },
    "tags": []
   },
   "outputs": [],
   "source": [
    "df['gender']= model1.transform(df['gender'])"
   ]
  },
  {
   "cell_type": "markdown",
   "metadata": {
    "papermill": {
     "duration": 0.029729,
     "end_time": "2020-09-08T03:16:06.155847",
     "exception": false,
     "start_time": "2020-09-08T03:16:06.126118",
     "status": "completed"
    },
    "tags": []
   },
   "source": [
    "###### 3-2-2-married"
   ]
  },
  {
   "cell_type": "code",
   "execution_count": null,
   "metadata": {
    "papermill": {
     "duration": 0.04018,
     "end_time": "2020-09-08T03:16:06.224884",
     "exception": false,
     "start_time": "2020-09-08T03:16:06.184704",
     "status": "completed"
    },
    "tags": []
   },
   "outputs": [],
   "source": [
    "model2=LabelEncoder()"
   ]
  },
  {
   "cell_type": "code",
   "execution_count": null,
   "metadata": {
    "papermill": {
     "duration": 0.044075,
     "end_time": "2020-09-08T03:16:06.299454",
     "exception": false,
     "start_time": "2020-09-08T03:16:06.255379",
     "status": "completed"
    },
    "tags": []
   },
   "outputs": [],
   "source": [
    "model2.fit(df['married'])"
   ]
  },
  {
   "cell_type": "code",
   "execution_count": null,
   "metadata": {
    "papermill": {
     "duration": 0.040351,
     "end_time": "2020-09-08T03:16:06.370713",
     "exception": false,
     "start_time": "2020-09-08T03:16:06.330362",
     "status": "completed"
    },
    "tags": []
   },
   "outputs": [],
   "source": [
    "df['married']= model2.transform(df['married'])"
   ]
  },
  {
   "cell_type": "markdown",
   "metadata": {
    "papermill": {
     "duration": 0.031241,
     "end_time": "2020-09-08T03:16:06.432897",
     "exception": false,
     "start_time": "2020-09-08T03:16:06.401656",
     "status": "completed"
    },
    "tags": []
   },
   "source": [
    "###### 3-2-3-education"
   ]
  },
  {
   "cell_type": "code",
   "execution_count": null,
   "metadata": {
    "papermill": {
     "duration": 0.041005,
     "end_time": "2020-09-08T03:16:06.507659",
     "exception": false,
     "start_time": "2020-09-08T03:16:06.466654",
     "status": "completed"
    },
    "tags": []
   },
   "outputs": [],
   "source": [
    "model3=LabelEncoder()"
   ]
  },
  {
   "cell_type": "code",
   "execution_count": null,
   "metadata": {
    "papermill": {
     "duration": 0.041678,
     "end_time": "2020-09-08T03:16:06.578667",
     "exception": false,
     "start_time": "2020-09-08T03:16:06.536989",
     "status": "completed"
    },
    "tags": []
   },
   "outputs": [],
   "source": [
    "model3.fit(df['education'])"
   ]
  },
  {
   "cell_type": "code",
   "execution_count": null,
   "metadata": {
    "papermill": {
     "duration": 0.041559,
     "end_time": "2020-09-08T03:16:06.650166",
     "exception": false,
     "start_time": "2020-09-08T03:16:06.608607",
     "status": "completed"
    },
    "tags": []
   },
   "outputs": [],
   "source": [
    "df['education']= model3.transform(df['education'])"
   ]
  },
  {
   "cell_type": "markdown",
   "metadata": {
    "papermill": {
     "duration": 0.029583,
     "end_time": "2020-09-08T03:16:06.709183",
     "exception": false,
     "start_time": "2020-09-08T03:16:06.679600",
     "status": "completed"
    },
    "tags": []
   },
   "source": [
    "###### 3-2-4-self_employed"
   ]
  },
  {
   "cell_type": "code",
   "execution_count": null,
   "metadata": {
    "papermill": {
     "duration": 0.039598,
     "end_time": "2020-09-08T03:16:06.778140",
     "exception": false,
     "start_time": "2020-09-08T03:16:06.738542",
     "status": "completed"
    },
    "tags": []
   },
   "outputs": [],
   "source": [
    "model4=LabelEncoder()"
   ]
  },
  {
   "cell_type": "code",
   "execution_count": null,
   "metadata": {
    "papermill": {
     "duration": 0.042008,
     "end_time": "2020-09-08T03:16:06.850339",
     "exception": false,
     "start_time": "2020-09-08T03:16:06.808331",
     "status": "completed"
    },
    "tags": []
   },
   "outputs": [],
   "source": [
    "model4.fit(df['self_employed'])"
   ]
  },
  {
   "cell_type": "code",
   "execution_count": null,
   "metadata": {
    "papermill": {
     "duration": 0.040144,
     "end_time": "2020-09-08T03:16:06.920711",
     "exception": false,
     "start_time": "2020-09-08T03:16:06.880567",
     "status": "completed"
    },
    "tags": []
   },
   "outputs": [],
   "source": [
    "df['self_employed']= model4.transform(df['self_employed'])"
   ]
  },
  {
   "cell_type": "markdown",
   "metadata": {
    "papermill": {
     "duration": 0.029232,
     "end_time": "2020-09-08T03:16:06.979610",
     "exception": false,
     "start_time": "2020-09-08T03:16:06.950378",
     "status": "completed"
    },
    "tags": []
   },
   "source": [
    "###### 3-2-5-property_area"
   ]
  },
  {
   "cell_type": "code",
   "execution_count": null,
   "metadata": {
    "papermill": {
     "duration": 0.040401,
     "end_time": "2020-09-08T03:16:07.052818",
     "exception": false,
     "start_time": "2020-09-08T03:16:07.012417",
     "status": "completed"
    },
    "tags": []
   },
   "outputs": [],
   "source": [
    "model5=LabelEncoder()"
   ]
  },
  {
   "cell_type": "code",
   "execution_count": null,
   "metadata": {
    "papermill": {
     "duration": 0.042427,
     "end_time": "2020-09-08T03:16:07.126658",
     "exception": false,
     "start_time": "2020-09-08T03:16:07.084231",
     "status": "completed"
    },
    "tags": []
   },
   "outputs": [],
   "source": [
    "model5.fit(df['property_area'])"
   ]
  },
  {
   "cell_type": "code",
   "execution_count": null,
   "metadata": {
    "papermill": {
     "duration": 0.040125,
     "end_time": "2020-09-08T03:16:07.197050",
     "exception": false,
     "start_time": "2020-09-08T03:16:07.156925",
     "status": "completed"
    },
    "tags": []
   },
   "outputs": [],
   "source": [
    "df['property_area']= model5.transform(df['property_area'])"
   ]
  },
  {
   "cell_type": "markdown",
   "metadata": {
    "papermill": {
     "duration": 0.030197,
     "end_time": "2020-09-08T03:16:07.259319",
     "exception": false,
     "start_time": "2020-09-08T03:16:07.229122",
     "status": "completed"
    },
    "tags": []
   },
   "source": [
    "###### 3-2-6-loan status"
   ]
  },
  {
   "cell_type": "code",
   "execution_count": null,
   "metadata": {
    "papermill": {
     "duration": 0.039562,
     "end_time": "2020-09-08T03:16:07.330672",
     "exception": false,
     "start_time": "2020-09-08T03:16:07.291110",
     "status": "completed"
    },
    "tags": []
   },
   "outputs": [],
   "source": [
    "model6=LabelEncoder()"
   ]
  },
  {
   "cell_type": "code",
   "execution_count": null,
   "metadata": {
    "papermill": {
     "duration": 0.043225,
     "end_time": "2020-09-08T03:16:07.403994",
     "exception": false,
     "start_time": "2020-09-08T03:16:07.360769",
     "status": "completed"
    },
    "tags": []
   },
   "outputs": [],
   "source": [
    "model6.fit(df['loan_status'])"
   ]
  },
  {
   "cell_type": "code",
   "execution_count": null,
   "metadata": {
    "papermill": {
     "duration": 0.042488,
     "end_time": "2020-09-08T03:16:07.476824",
     "exception": false,
     "start_time": "2020-09-08T03:16:07.434336",
     "status": "completed"
    },
    "tags": []
   },
   "outputs": [],
   "source": [
    "df['loan_status']= model6.transform(df['loan_status'])"
   ]
  },
  {
   "cell_type": "code",
   "execution_count": null,
   "metadata": {
    "papermill": {
     "duration": 0.059515,
     "end_time": "2020-09-08T03:16:07.568966",
     "exception": false,
     "start_time": "2020-09-08T03:16:07.509451",
     "status": "completed"
    },
    "scrolled": true,
    "tags": []
   },
   "outputs": [],
   "source": [
    "df.head()"
   ]
  },
  {
   "cell_type": "code",
   "execution_count": null,
   "metadata": {
    "papermill": {
     "duration": 0.949081,
     "end_time": "2020-09-08T03:16:08.549911",
     "exception": false,
     "start_time": "2020-09-08T03:16:07.600830",
     "status": "completed"
    },
    "tags": []
   },
   "outputs": [],
   "source": [
    "plt.figure(figsize=(12,8))\n",
    "\n",
    "corr = df.corr()\n",
    "mask = np.zeros_like(corr)\n",
    "mask[np.triu_indices_from(mask)] = True\n",
    "with sns.axes_style(\"white\"):\n",
    "    ax = sns.heatmap(corr, mask=mask, square=True,annot=True,linewidths=2, cmap='viridis')\n",
    "plt.title('Correlation Matrix for Loan Status')"
   ]
  },
  {
   "cell_type": "markdown",
   "metadata": {
    "papermill": {
     "duration": 0.03998,
     "end_time": "2020-09-08T03:16:08.627145",
     "exception": false,
     "start_time": "2020-09-08T03:16:08.587165",
     "status": "completed"
    },
    "tags": []
   },
   "source": [
    "From the above figure, we can see that Credit_History (Independent Variable) has the maximum correlation with Loan_Status (Dependent Variable). Which denotes that the Loan_Status is heavily dependent on the Credit_History."
   ]
  },
  {
   "cell_type": "markdown",
   "metadata": {
    "papermill": {
     "duration": 0.033935,
     "end_time": "2020-09-08T03:16:08.695352",
     "exception": false,
     "start_time": "2020-09-08T03:16:08.661417",
     "status": "completed"
    },
    "tags": []
   },
   "source": [
    "### 4-Prediction"
   ]
  },
  {
   "cell_type": "markdown",
   "metadata": {
    "papermill": {
     "duration": 0.032031,
     "end_time": "2020-09-08T03:16:08.760801",
     "exception": false,
     "start_time": "2020-09-08T03:16:08.728770",
     "status": "completed"
    },
    "tags": []
   },
   "source": [
    "##### 4-1-LogisticRegression"
   ]
  },
  {
   "cell_type": "code",
   "execution_count": null,
   "metadata": {
    "papermill": {
     "duration": 0.046169,
     "end_time": "2020-09-08T03:16:08.838802",
     "exception": false,
     "start_time": "2020-09-08T03:16:08.792633",
     "status": "completed"
    },
    "tags": []
   },
   "outputs": [],
   "source": [
    "X=df.drop(['loan_id','loan_status'],axis=1)\n",
    "y=df['loan_status']"
   ]
  },
  {
   "cell_type": "code",
   "execution_count": null,
   "metadata": {
    "papermill": {
     "duration": 0.045963,
     "end_time": "2020-09-08T03:16:08.917063",
     "exception": false,
     "start_time": "2020-09-08T03:16:08.871100",
     "status": "completed"
    },
    "tags": []
   },
   "outputs": [],
   "source": [
    "X_train, X_test, y_train, y_test = train_test_split(X, y, test_size=0.2,random_state=0)"
   ]
  },
  {
   "cell_type": "code",
   "execution_count": null,
   "metadata": {
    "papermill": {
     "duration": 0.050464,
     "end_time": "2020-09-08T03:16:09.004682",
     "exception": false,
     "start_time": "2020-09-08T03:16:08.954218",
     "status": "completed"
    },
    "tags": []
   },
   "outputs": [],
   "source": [
    "lr=LogisticRegression()"
   ]
  },
  {
   "cell_type": "code",
   "execution_count": null,
   "metadata": {
    "papermill": {
     "duration": 0.101714,
     "end_time": "2020-09-08T03:16:09.139285",
     "exception": false,
     "start_time": "2020-09-08T03:16:09.037571",
     "status": "completed"
    },
    "tags": []
   },
   "outputs": [],
   "source": [
    "lr.fit(X_train, y_train)"
   ]
  },
  {
   "cell_type": "code",
   "execution_count": null,
   "metadata": {
    "papermill": {
     "duration": 0.04748,
     "end_time": "2020-09-08T03:16:09.221608",
     "exception": false,
     "start_time": "2020-09-08T03:16:09.174128",
     "status": "completed"
    },
    "tags": []
   },
   "outputs": [],
   "source": [
    "lr_prediction=lr.predict(X_test)"
   ]
  },
  {
   "cell_type": "code",
   "execution_count": null,
   "metadata": {
    "papermill": {
     "duration": 0.064783,
     "end_time": "2020-09-08T03:16:09.321445",
     "exception": false,
     "start_time": "2020-09-08T03:16:09.256662",
     "status": "completed"
    },
    "tags": []
   },
   "outputs": [],
   "source": [
    "print(confusion_matrix(y_test,lr_prediction))\n",
    "print('\\n')\n",
    "print(classification_report(y_test,lr_prediction))\n",
    "print('\\n')\n",
    "print('Logistic Regression accuracy: ', accuracy_score(y_test,lr_prediction))"
   ]
  },
  {
   "cell_type": "markdown",
   "metadata": {
    "papermill": {
     "duration": 0.036852,
     "end_time": "2020-09-08T03:16:09.395570",
     "exception": false,
     "start_time": "2020-09-08T03:16:09.358718",
     "status": "completed"
    },
    "tags": []
   },
   "source": [
    "### 4-2-Decision Tree "
   ]
  },
  {
   "cell_type": "code",
   "execution_count": null,
   "metadata": {
    "papermill": {
     "duration": 0.045616,
     "end_time": "2020-09-08T03:16:09.476198",
     "exception": false,
     "start_time": "2020-09-08T03:16:09.430582",
     "status": "completed"
    },
    "tags": []
   },
   "outputs": [],
   "source": [
    "dt=DecisionTreeClassifier()"
   ]
  },
  {
   "cell_type": "code",
   "execution_count": null,
   "metadata": {
    "papermill": {
     "duration": 0.051438,
     "end_time": "2020-09-08T03:16:09.562921",
     "exception": false,
     "start_time": "2020-09-08T03:16:09.511483",
     "status": "completed"
    },
    "tags": []
   },
   "outputs": [],
   "source": [
    "dt.fit(X_train, y_train)"
   ]
  },
  {
   "cell_type": "code",
   "execution_count": null,
   "metadata": {
    "papermill": {
     "duration": 0.060434,
     "end_time": "2020-09-08T03:16:09.655936",
     "exception": false,
     "start_time": "2020-09-08T03:16:09.595502",
     "status": "completed"
    },
    "tags": []
   },
   "outputs": [],
   "source": [
    "dt_prediction=dt.predict(X_test)"
   ]
  },
  {
   "cell_type": "code",
   "execution_count": null,
   "metadata": {
    "papermill": {
     "duration": 0.079809,
     "end_time": "2020-09-08T03:16:09.786410",
     "exception": false,
     "start_time": "2020-09-08T03:16:09.706601",
     "status": "completed"
    },
    "tags": []
   },
   "outputs": [],
   "source": [
    "print(confusion_matrix(y_test,dt_prediction))\n",
    "print('\\n')\n",
    "print(classification_report(y_test,dt_prediction))\n",
    "print('\\n')\n",
    "print('Decision Tree Accuracy: ', accuracy_score(y_test,dt_prediction))"
   ]
  },
  {
   "cell_type": "markdown",
   "metadata": {
    "papermill": {
     "duration": 0.033503,
     "end_time": "2020-09-08T03:16:09.861581",
     "exception": false,
     "start_time": "2020-09-08T03:16:09.828078",
     "status": "completed"
    },
    "tags": []
   },
   "source": [
    "##### 4-3-Random Forest"
   ]
  },
  {
   "cell_type": "code",
   "execution_count": null,
   "metadata": {
    "papermill": {
     "duration": 0.043446,
     "end_time": "2020-09-08T03:16:09.938436",
     "exception": false,
     "start_time": "2020-09-08T03:16:09.894990",
     "status": "completed"
    },
    "tags": []
   },
   "outputs": [],
   "source": [
    "rf=RandomForestClassifier(n_estimators=200)"
   ]
  },
  {
   "cell_type": "code",
   "execution_count": null,
   "metadata": {
    "papermill": {
     "duration": 0.581309,
     "end_time": "2020-09-08T03:16:10.553166",
     "exception": false,
     "start_time": "2020-09-08T03:16:09.971857",
     "status": "completed"
    },
    "tags": []
   },
   "outputs": [],
   "source": [
    "rf.fit(X_train, y_train)"
   ]
  },
  {
   "cell_type": "code",
   "execution_count": null,
   "metadata": {
    "papermill": {
     "duration": 0.165155,
     "end_time": "2020-09-08T03:16:10.752749",
     "exception": false,
     "start_time": "2020-09-08T03:16:10.587594",
     "status": "completed"
    },
    "tags": []
   },
   "outputs": [],
   "source": [
    "rf_prediction=rf.predict(X_test)"
   ]
  },
  {
   "cell_type": "code",
   "execution_count": null,
   "metadata": {
    "papermill": {
     "duration": 0.060092,
     "end_time": "2020-09-08T03:16:10.847243",
     "exception": false,
     "start_time": "2020-09-08T03:16:10.787151",
     "status": "completed"
    },
    "tags": []
   },
   "outputs": [],
   "source": [
    "print(confusion_matrix(y_test,rf_prediction))\n",
    "print('\\n')\n",
    "print(classification_report(y_test,rf_prediction))\n",
    "print('\\n')\n",
    "print('Random Forest Accuracy: ', accuracy_score(y_test,rf_prediction))"
   ]
  },
  {
   "cell_type": "markdown",
   "metadata": {
    "papermill": {
     "duration": 0.034116,
     "end_time": "2020-09-08T03:16:10.916017",
     "exception": false,
     "start_time": "2020-09-08T03:16:10.881901",
     "status": "completed"
    },
    "tags": []
   },
   "source": [
    "##### 4-4-KNearest Neighbors"
   ]
  },
  {
   "cell_type": "code",
   "execution_count": null,
   "metadata": {
    "papermill": {
     "duration": 0.5862,
     "end_time": "2020-09-08T03:16:11.537880",
     "exception": false,
     "start_time": "2020-09-08T03:16:10.951680",
     "status": "completed"
    },
    "tags": []
   },
   "outputs": [],
   "source": [
    "error_rate=[]\n",
    "for n in range(1,40):\n",
    "    knn=KNeighborsClassifier(n_neighbors=n)\n",
    "    knn.fit(X_train, y_train)\n",
    "    knn_prediction=knn.predict(X_test)\n",
    "    error_rate.append(np.mean(knn_prediction!=y_test))\n",
    "print(error_rate)"
   ]
  },
  {
   "cell_type": "code",
   "execution_count": null,
   "metadata": {
    "papermill": {
     "duration": 0.486515,
     "end_time": "2020-09-08T03:16:12.064009",
     "exception": false,
     "start_time": "2020-09-08T03:16:11.577494",
     "status": "completed"
    },
    "tags": []
   },
   "outputs": [],
   "source": [
    "plt.figure(figsize=(8,6))\n",
    "sns.set_style('whitegrid')\n",
    "plt.plot(list(range(1,40)),error_rate,color='b', marker='o', linewidth=2, markersize=12, markerfacecolor='r', markeredgecolor='r')\n",
    "plt.xlabel('Number of Neighbors')\n",
    "plt.ylabel('Error Rate')\n",
    "plt.title('Elbow Method')"
   ]
  },
  {
   "cell_type": "code",
   "execution_count": null,
   "metadata": {
    "papermill": {
     "duration": 0.048706,
     "end_time": "2020-09-08T03:16:12.151140",
     "exception": false,
     "start_time": "2020-09-08T03:16:12.102434",
     "status": "completed"
    },
    "tags": []
   },
   "outputs": [],
   "source": [
    "knn=KNeighborsClassifier(n_neighbors=23)"
   ]
  },
  {
   "cell_type": "code",
   "execution_count": null,
   "metadata": {
    "papermill": {
     "duration": 0.058474,
     "end_time": "2020-09-08T03:16:12.248695",
     "exception": false,
     "start_time": "2020-09-08T03:16:12.190221",
     "status": "completed"
    },
    "tags": []
   },
   "outputs": [],
   "source": [
    "knn.fit(X_train, y_train)"
   ]
  },
  {
   "cell_type": "code",
   "execution_count": null,
   "metadata": {
    "papermill": {
     "duration": 0.056219,
     "end_time": "2020-09-08T03:16:12.342067",
     "exception": false,
     "start_time": "2020-09-08T03:16:12.285848",
     "status": "completed"
    },
    "tags": []
   },
   "outputs": [],
   "source": [
    "knn_prediction=knn.predict(X_test)"
   ]
  },
  {
   "cell_type": "code",
   "execution_count": null,
   "metadata": {
    "papermill": {
     "duration": 0.061825,
     "end_time": "2020-09-08T03:16:12.440401",
     "exception": false,
     "start_time": "2020-09-08T03:16:12.378576",
     "status": "completed"
    },
    "tags": []
   },
   "outputs": [],
   "source": [
    "print(confusion_matrix(y_test,knn_prediction))\n",
    "print('\\n')\n",
    "print(classification_report(y_test,knn_prediction))\n",
    "print('\\n')\n",
    "print('KNN accuracy Accuracy: ', accuracy_score(y_test,knn_prediction))"
   ]
  },
  {
   "cell_type": "markdown",
   "metadata": {
    "papermill": {
     "duration": 0.035892,
     "end_time": "2020-09-08T03:16:12.515080",
     "exception": false,
     "start_time": "2020-09-08T03:16:12.479188",
     "status": "completed"
    },
    "tags": []
   },
   "source": [
    "##### 4-5-SVC"
   ]
  },
  {
   "cell_type": "code",
   "execution_count": null,
   "metadata": {
    "papermill": {
     "duration": 0.04455,
     "end_time": "2020-09-08T03:16:12.595349",
     "exception": false,
     "start_time": "2020-09-08T03:16:12.550799",
     "status": "completed"
    },
    "tags": []
   },
   "outputs": [],
   "source": [
    "svc=SVC()"
   ]
  },
  {
   "cell_type": "code",
   "execution_count": null,
   "metadata": {
    "papermill": {
     "duration": 0.069879,
     "end_time": "2020-09-08T03:16:12.705596",
     "exception": false,
     "start_time": "2020-09-08T03:16:12.635717",
     "status": "completed"
    },
    "tags": []
   },
   "outputs": [],
   "source": [
    "svc.fit(X_train, y_train)"
   ]
  },
  {
   "cell_type": "code",
   "execution_count": null,
   "metadata": {
    "papermill": {
     "duration": 0.049784,
     "end_time": "2020-09-08T03:16:12.795179",
     "exception": false,
     "start_time": "2020-09-08T03:16:12.745395",
     "status": "completed"
    },
    "tags": []
   },
   "outputs": [],
   "source": [
    "svc_prediction=svc.predict(X_test)"
   ]
  },
  {
   "cell_type": "code",
   "execution_count": null,
   "metadata": {
    "papermill": {
     "duration": 0.057881,
     "end_time": "2020-09-08T03:16:12.892529",
     "exception": false,
     "start_time": "2020-09-08T03:16:12.834648",
     "status": "completed"
    },
    "tags": []
   },
   "outputs": [],
   "source": [
    "print(confusion_matrix(y_test,svc_prediction))\n",
    "print('\\n')\n",
    "print(classification_report(y_test,svc_prediction))\n",
    "print('\\n')\n",
    "print('SVC َAccuracy: ', accuracy_score(y_test,svc_prediction))"
   ]
  },
  {
   "cell_type": "code",
   "execution_count": null,
   "metadata": {
    "papermill": {
     "duration": 0.052385,
     "end_time": "2020-09-08T03:16:12.982521",
     "exception": false,
     "start_time": "2020-09-08T03:16:12.930136",
     "status": "completed"
    },
    "tags": []
   },
   "outputs": [],
   "source": [
    "print('Logistic Regression Accuracy: ', accuracy_score(y_test,lr_prediction))\n",
    "print('Decision Tree Accuracy: ', accuracy_score(y_test,dt_prediction))\n",
    "print('Random Forest Accuracy: ', accuracy_score(y_test,rf_prediction))\n",
    "print('KNN Accuracy: ', accuracy_score(y_test,knn_prediction))\n",
    "print('SVC Accuracy: ', accuracy_score(y_test,svc_prediction))"
   ]
  },
  {
   "cell_type": "markdown",
   "metadata": {
    "papermill": {
     "duration": 0.039901,
     "end_time": "2020-09-08T03:16:13.061982",
     "exception": false,
     "start_time": "2020-09-08T03:16:13.022081",
     "status": "completed"
    },
    "tags": []
   },
   "source": [
    "### CONCLUSION\n",
    "\n",
    "The Loan Status is heavily dependent on the Credit History for Predictions.\n",
    "\n",
    "The Logistic Regression algorithm gives us the maximum Accuracy (80%) compared to the other 4 Machine Learning Classification Algorithms."
   ]
  }
 ],
 "metadata": {
  "kernelspec": {
   "display_name": "Python 3 (ipykernel)",
   "language": "python",
   "name": "python3"
  },
  "language_info": {
   "codemirror_mode": {
    "name": "ipython",
    "version": 3
   },
   "file_extension": ".py",
   "mimetype": "text/x-python",
   "name": "python",
   "nbconvert_exporter": "python",
   "pygments_lexer": "ipython3",
   "version": "3.9.7"
  },
  "papermill": {
   "duration": 23.464495,
   "end_time": "2020-09-08T03:16:13.213032",
   "environment_variables": {},
   "exception": null,
   "input_path": "__notebook__.ipynb",
   "output_path": "__notebook__.ipynb",
   "parameters": {},
   "start_time": "2020-09-08T03:15:49.748537",
   "version": "2.1.0"
  }
 },
 "nbformat": 4,
 "nbformat_minor": 4
}
